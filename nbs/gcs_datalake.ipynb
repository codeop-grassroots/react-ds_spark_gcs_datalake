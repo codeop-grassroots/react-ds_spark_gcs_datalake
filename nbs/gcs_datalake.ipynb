{
 "cells": [
  {
   "cell_type": "markdown",
   "id": "d46c8e32-6381-44b2-a522-238359b0606c",
   "metadata": {},
   "source": [
    "# Spark SQL with pySpark"
   ]
  },
  {
   "cell_type": "markdown",
   "id": "e355437c-f3b8-4e13-8c6f-7a4203959afc",
   "metadata": {},
   "source": [
    "Answer the following questions"
   ]
  },
  {
   "cell_type": "code",
   "execution_count": 12,
   "id": "9a0e2c1f-1fea-493e-872f-5a4fdf691019",
   "metadata": {},
   "outputs": [],
   "source": [
    "from pyspark.sql import SparkSession\n",
    "from pyspark.sql.types import StructType, StructField\n",
    "from pyspark.sql.types import DoubleType, IntegerType, StringType, TimestampType, DateType"
   ]
  },
  {
   "cell_type": "code",
   "execution_count": 2,
   "id": "7099a616-fe1e-48b8-bfb8-d85be20a045a",
   "metadata": {},
   "outputs": [],
   "source": [
    "spark = SparkSession.builder \\\n",
    "    .master(\"local\") \\\n",
    "    .config(\"google.cloud.auth.service.account.json.keyfile\", \"< json_path >\") \\\n",
    "    .config(\"spark.executor.memory\", \"3g\") \\\n",
    "    .config(\"spark.jars\", \"/usr/local/spark/jars/gcs-connector-hadoop2-latest.jar\") \\\n",
    "    .appName(\"GCS_DataLake\") \\\n",
    "    .getOrCreate()"
   ]
  },
  {
   "cell_type": "code",
   "execution_count": 10,
   "id": "4f0ffc3a-b882-4a64-86e0-f6ff05b293eb",
   "metadata": {},
   "outputs": [],
   "source": [
    "gcs_path = \"gs://solutions-public-assets/time-series-master/GBPUSD_*.csv\""
   ]
  },
  {
   "cell_type": "code",
   "execution_count": 13,
   "id": "c65da0db-daf5-493c-834f-192be3cc3898",
   "metadata": {},
   "outputs": [
    {
     "name": "stdout",
     "output_type": "stream",
     "text": [
      "+-----+----------+--------------------+------+------+\n",
      "|venue|currencies|          time_stamp|   bid|   ask|\n",
      "+-----+----------+--------------------+------+------+\n",
      "|  XYZ|   GBP/USD| 2014-01-01 00:00:00|1.4995|1.5005|\n",
      "|  XYZ|   GBP/USD|2014-01-01 00:00:...|1.4988|1.4998|\n",
      "|  XYZ|   GBP/USD|2014-01-01 00:00:...|1.4979|1.4989|\n",
      "|  XYZ|   GBP/USD|2014-01-01 00:00:...|1.4993|1.5003|\n",
      "|  XYZ|   GBP/USD|2014-01-01 00:00:...|1.4989|1.4999|\n",
      "|  XYZ|   GBP/USD|2014-01-01 00:00:...|1.4998|1.5008|\n",
      "|  XYZ|   GBP/USD|2014-01-01 00:00:...|1.5001|1.5011|\n",
      "|  XYZ|   GBP/USD|2014-01-01 00:00:...|1.4991|1.5001|\n",
      "|  XYZ|   GBP/USD|2014-01-01 00:00:...|1.4978|1.4988|\n",
      "|  XYZ|   GBP/USD|2014-01-01 00:00:...|1.4974|1.4984|\n",
      "|  XYZ|   GBP/USD|2014-01-01 00:00:...|1.4987|1.4997|\n",
      "|  XYZ|   GBP/USD|2014-01-01 00:00:...|1.4979|1.4989|\n",
      "|  XYZ|   GBP/USD|2014-01-01 00:00:...|1.4979|1.4989|\n",
      "|  XYZ|   GBP/USD|2014-01-01 00:01:...|1.4991|1.5001|\n",
      "|  XYZ|   GBP/USD|2014-01-01 00:01:...|1.4997|1.5007|\n",
      "|  XYZ|   GBP/USD|2014-01-01 00:01:...|1.4996|1.5006|\n",
      "|  XYZ|   GBP/USD|2014-01-01 00:01:...|1.4998|1.5008|\n",
      "|  XYZ|   GBP/USD|2014-01-01 00:01:...|1.4995|1.5005|\n",
      "|  XYZ|   GBP/USD|2014-01-01 00:01:...|1.4992|1.5002|\n",
      "|  XYZ|   GBP/USD|2014-01-01 00:01:...|1.4979|1.4989|\n",
      "+-----+----------+--------------------+------+------+\n",
      "only showing top 20 rows\n",
      "\n"
     ]
    }
   ],
   "source": [
    "schema = StructType([\n",
    "    StructField(\"venue\", StringType()),\n",
    "    StructField(\"currencies\", StringType()),\n",
    "    StructField(\"time_stamp\", TimestampType()),\n",
    "    StructField(\"bid\", DoubleType()),\n",
    "    StructField(\"ask\", DoubleType())\n",
    "])\n",
    "\n",
    "df=spark.read.csv(gcs_path, header=False, schema=schema)\n",
    "df.show()"
   ]
  }
 ],
 "metadata": {
  "kernelspec": {
   "display_name": "Python 3 (ipykernel)",
   "language": "python",
   "name": "python3"
  },
  "language_info": {
   "codemirror_mode": {
    "name": "ipython",
    "version": 3
   },
   "file_extension": ".py",
   "mimetype": "text/x-python",
   "name": "python",
   "nbconvert_exporter": "python",
   "pygments_lexer": "ipython3",
   "version": "3.11.6"
  }
 },
 "nbformat": 4,
 "nbformat_minor": 5
}
