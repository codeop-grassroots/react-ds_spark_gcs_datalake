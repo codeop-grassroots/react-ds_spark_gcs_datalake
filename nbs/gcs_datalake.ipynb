{
 "cells": [
  {
   "cell_type": "markdown",
   "id": "d46c8e32-6381-44b2-a522-238359b0606c",
   "metadata": {},
   "source": [
    "# Spark SQL with pySpark"
   ]
  },
  {
   "cell_type": "markdown",
   "id": "e355437c-f3b8-4e13-8c6f-7a4203959afc",
   "metadata": {},
   "source": [
    "Answer the following questions"
   ]
  },
  {
   "cell_type": "code",
   "execution_count": 1,
   "id": "9a0e2c1f-1fea-493e-872f-5a4fdf691019",
   "metadata": {},
   "outputs": [],
   "source": [
    "from pyspark.sql import SparkSession\n",
    "from pyspark.sql.types import StructType, StructField\n",
    "from pyspark.sql.types import DoubleType, IntegerType, StringType, TimestampType, DateType\n",
    "from pyspark.sql.functions import *\n",
    "from pyspark.errors import AnalysisException\n",
    "from glob import glob"
   ]
  },
  {
   "attachments": {},
   "cell_type": "markdown",
   "id": "cd3d6bba-e5b3-49b1-8b7c-21eece2f3d5e",
   "metadata": {},
   "source": [
    "# Reading data from the cloud\n",
    "\n",
    "You can use Spark to read data from a Cloud location the same as if it were a local file in your computer, you just need to specify the address, add [the appropiate JARs](https://cloud.google.com/dataproc/docs/concepts/connectors/cloud-storage#clusters) for it, and set the credentials file."
   ]
  },
  {
   "cell_type": "code",
   "execution_count": 2,
   "id": "af842ce9-83de-4b42-9946-307b43496a55",
   "metadata": {},
   "outputs": [],
   "source": [
    "credentials_location = glob(\"/secrets/*json\")[0] # this is the location of the JSON file for GCS authentication\n",
    "\n",
    "spark = (\n",
    "    SparkSession\n",
    "    .builder\n",
    "    .master(\"local[*]\")\n",
    "    .config(\"spark.executor.memory\", \"3g\")\n",
    "    .config(\"spark.jars\", \"/usr/local/spark/jars/gcs-connector-hadoop3-latest.jar\") # here we set up the spark JAR to read amd write Google Cloud Services\n",
    "    .config(\"google.cloud.auth.service.account.json.keyfile\", credentials_location) # here we tell Spark where to look for credentials\n",
    "    .appName(\"GCS_DataLake\")\n",
    "    .getOrCreate()\n",
    ")"
   ]
  },
  {
   "cell_type": "markdown",
   "id": "5a5420a6-de2b-4b5f-89fb-6798537cfdfd",
   "metadata": {},
   "source": [
    "Now we can read directly from GCS:"
   ]
  },
  {
   "cell_type": "code",
   "execution_count": 3,
   "id": "263541c3-58fa-44f0-bcab-cafa479b8b3c",
   "metadata": {},
   "outputs": [
    {
     "name": "stdout",
     "output_type": "stream",
     "text": [
      "root\n",
      " |-- area: long (nullable = true)\n",
      " |-- begin_area: long (nullable = true)\n",
      " |-- begin_date_day: long (nullable = true)\n",
      " |-- begin_date_month: long (nullable = true)\n",
      " |-- begin_date_year: long (nullable = true)\n",
      " |-- comment: string (nullable = true)\n",
      " |-- edits_pending: long (nullable = true)\n",
      " |-- end_area: long (nullable = true)\n",
      " |-- end_date_day: long (nullable = true)\n",
      " |-- end_date_month: long (nullable = true)\n",
      " |-- end_date_year: long (nullable = true)\n",
      " |-- ended: boolean (nullable = true)\n",
      " |-- gender: long (nullable = true)\n",
      " |-- gid: string (nullable = true)\n",
      " |-- id: long (nullable = true)\n",
      " |-- last_updated: string (nullable = true)\n",
      " |-- name: string (nullable = true)\n",
      " |-- sort_name: string (nullable = true)\n",
      " |-- type: long (nullable = true)\n",
      "\n"
     ]
    }
   ],
   "source": [
    "cloud_json_location = \"gs://solutions-public-assets/bqetl/artist.json\"\n",
    "\n",
    "df = spark.read.json(cloud_json_location)\n",
    "df.printSchema()"
   ]
  },
  {
   "cell_type": "markdown",
   "id": "d8999b1a-18ac-47fa-8799-59d55bba8bab",
   "metadata": {},
   "source": [
    "# Writing data\n",
    "\n",
    "In order to write we use a [DataFrameWriter](https://spark.apache.org/docs/latest/api/python/reference/pyspark.sql/api/pyspark.sql.DataFrameWriter.html#pyspark.sql.DataFrameWriter) that can be created by simply calling the method `write` in our `DataFrame` object:"
   ]
  },
  {
   "cell_type": "code",
   "execution_count": 4,
   "id": "e48c6c5d-7246-494e-80ab-bf03e91750ba",
   "metadata": {},
   "outputs": [
    {
     "data": {
      "text/plain": [
       "pyspark.sql.readwriter.DataFrameWriter"
      ]
     },
     "execution_count": 4,
     "metadata": {},
     "output_type": "execute_result"
    }
   ],
   "source": [
    "df.write.__class__"
   ]
  },
  {
   "cell_type": "markdown",
   "id": "baffa808-1af0-4a75-87a0-8ac7d7c20b78",
   "metadata": {},
   "source": [
    "There are [options](https://spark.apache.org/docs/latest/api/python/reference/pyspark.sql/api/pyspark.sql.DataFrameWriter.option.html) you can set up, as well as a [writing mode](https://spark.apache.org/docs/latest/api/python/reference/pyspark.sql/api/pyspark.sql.DataFrameWriter.mode.html). The writing mode is common, but the options will depend on the format you want to set.\n",
    "\n",
    "Writing to csv we can set up [specific csv options](https://spark.apache.org/docs/latest/sql-data-sources-csv.html#data-source-option). For instance, here we write the first 50 rows with a header to a folder called `data/write_0`. If the folder exists already, we'll overwrite the files within.\n",
    "\n",
    "Remember, Spark always writes to a folder."
   ]
  },
  {
   "cell_type": "code",
   "execution_count": 5,
   "id": "7e270547-e539-44e3-83a4-ee4977a00871",
   "metadata": {},
   "outputs": [],
   "source": [
    "df.limit(50).write.mode(\"overwrite\").option(\"header\",\"true\").csv(\"data/write_0\")"
   ]
  },
  {
   "cell_type": "markdown",
   "id": "82ec09f9-74fb-4662-9117-a5adb07bafd4",
   "metadata": {},
   "source": [
    "We can see the result with the `ls` command:"
   ]
  },
  {
   "cell_type": "code",
   "execution_count": 6,
   "id": "a57d2858-e6eb-4739-88e4-f2e0908c289d",
   "metadata": {},
   "outputs": [
    {
     "name": "stdout",
     "output_type": "stream",
     "text": [
      "total 8.0K\n",
      "-rw-r--r-- 1 jovyan users 5.7K May 28 11:39 part-00000-0ddcd7dd-3f4a-4061-8eec-68e332e3781c-c000.csv\n",
      "-rw-r--r-- 1 jovyan users    0 May 28 11:39 _SUCCESS\n"
     ]
    }
   ],
   "source": [
    "! ls -lh data/write_0/"
   ]
  },
  {
   "cell_type": "raw",
   "id": "dfdda6cb-21e5-4ecd-ac4e-a4cdfc369946",
   "metadata": {},
   "source": [
    "total 8.0K\n",
    "-rw-r--r-- 1 jovyan users 5.7K May 28 09:02 part-00000-a32dae6a-b89d-408b-bd15-5f5fd6b3b916-c000.csv\n",
    "-rw-r--r-- 1 jovyan users    0 May 28 09:02 _SUCCESS"
   ]
  },
  {
   "cell_type": "markdown",
   "id": "da619ad1-2e70-45f6-aeb9-da661128fbef",
   "metadata": {},
   "source": [
    "Use [partitionBy](https://spark.apache.org/docs/latest/api/python/reference/pyspark.sql/api/pyspark.sql.DataFrameWriter.partitionBy.html) to set up partitions within the writing. This will create a csv file for each element of the group you are setting."
   ]
  },
  {
   "cell_type": "code",
   "execution_count": 7,
   "id": "0600046e-077f-4962-89c7-b5c395351be9",
   "metadata": {},
   "outputs": [],
   "source": [
    "df.limit(10000).write.mode(\"overwrite\").option(\"header\",\"true\").partitionBy(\"gender\").csv(\"data/write_1\")"
   ]
  },
  {
   "cell_type": "code",
   "execution_count": 8,
   "id": "2a0bc9d6-3f11-497a-8933-f1678ad978b8",
   "metadata": {},
   "outputs": [
    {
     "name": "stdout",
     "output_type": "stream",
     "text": [
      "-rw-r--r-- 1 jovyan users    0 May 28 11:39  data/write_1/_SUCCESS\n",
      "\n",
      "'data/write_1/gender=1':\n",
      "total 152K\n",
      "-rw-r--r-- 1 jovyan users 150K May 28 11:39 part-00000-f3952c4e-1221-4fb9-ba51-56ab2d8a05cc.c000.csv\n",
      "\n",
      "'data/write_1/gender=2':\n",
      "total 52K\n",
      "-rw-r--r-- 1 jovyan users 49K May 28 11:39 part-00000-f3952c4e-1221-4fb9-ba51-56ab2d8a05cc.c000.csv\n",
      "\n",
      "'data/write_1/gender=__HIVE_DEFAULT_PARTITION__':\n",
      "total 1004K\n",
      "-rw-r--r-- 1 jovyan users 1001K May 28 11:39 part-00000-f3952c4e-1221-4fb9-ba51-56ab2d8a05cc.c000.csv\n"
     ]
    }
   ],
   "source": [
    "! ls -lh data/write_1/*"
   ]
  },
  {
   "cell_type": "raw",
   "id": "9edc45b8-c011-44d6-97b0-8af38e8256a0",
   "metadata": {},
   "source": [
    "-rw-r--r-- 1 jovyan users    0 May 28 09:02  data/write_1/_SUCCESS\n",
    "\n",
    "'data/write_1/gender=1':\n",
    "total 152K\n",
    "-rw-r--r-- 1 jovyan users 150K May 28 09:02 part-00000-78f560be-ffd3-41ea-a0b6-9f4cc423b4c3.c000.csv\n",
    "\n",
    "'data/write_1/gender=2':\n",
    "total 52K\n",
    "-rw-r--r-- 1 jovyan users 49K May 28 09:02 part-00000-78f560be-ffd3-41ea-a0b6-9f4cc423b4c3.c000.csv\n",
    "\n",
    "'data/write_1/gender=__HIVE_DEFAULT_PARTITION__':\n",
    "total 1004K\n",
    "-rw-r--r-- 1 jovyan users 1001K May 28 09:02 part-00000-78f560be-ffd3-41ea-a0b6-9f4cc423b4c3.c000.csv"
   ]
  },
  {
   "cell_type": "markdown",
   "id": "04baf6ee-b8f6-4777-bbff-6bbee585d581",
   "metadata": {},
   "source": [
    "Why do you think `__HIVE_DEFAULT_PARTITION__` means?"
   ]
  },
  {
   "cell_type": "markdown",
   "id": "246b1cf3-1f7c-41ce-a2be-4309a47043fb",
   "metadata": {},
   "source": [
    "## Writing to csv: exercises"
   ]
  },
  {
   "cell_type": "markdown",
   "id": "e4ef07ad-f85f-45fd-8a31-b4c4a1888c07",
   "metadata": {},
   "source": [
    "Take the first 100 rows and write them to a csv folder called `data/write_2`, using `;` as a separator and without a header. If the folder exists, this process should fail. Catch the exception and print it, it should say:\n",
    "`[PATH_ALREADY_EXISTS] Path file:/home/jovyan/work/data/write_2 already exists. Set mode as \"overwrite\" to overwrite the existing path.\n",
    "`"
   ]
  },
  {
   "cell_type": "code",
   "execution_count": 9,
   "id": "da54e3ec-2888-4969-ae31-b45583b757b6",
   "metadata": {},
   "outputs": [
    {
     "name": "stdout",
     "output_type": "stream",
     "text": [
      "[PATH_ALREADY_EXISTS] Path file:/home/jovyan/work/data/write_2 already exists. Set mode as \"overwrite\" to overwrite the existing path.\n"
     ]
    }
   ],
   "source": [
    "try:\n",
    "    df.limit(100).write.mode(\"errorifexists\").option(\"header\",\"false\").option(\"sep\",\";\").csv(\"data/write_2\")\n",
    "except AnalysisException as e:\n",
    "    print(e)"
   ]
  },
  {
   "cell_type": "code",
   "execution_count": 10,
   "id": "ec3d2c0b-a8d4-4975-be96-d7eb3d218546",
   "metadata": {},
   "outputs": [
    {
     "name": "stdout",
     "output_type": "stream",
     "text": [
      "total 12K\n",
      "-rw-r--r-- 1 jovyan users 11K May 28 09:45 part-00000-03853414-ff14-43d5-93b0-b5c33987d165-c000.csv\n",
      "-rw-r--r-- 1 jovyan users   0 May 28 09:45 _SUCCESS\n"
     ]
    }
   ],
   "source": [
    "! ls -lh data/write_2/"
   ]
  },
  {
   "cell_type": "raw",
   "id": "46d98d48-bf21-4c62-9d4c-31378cc64380",
   "metadata": {},
   "source": [
    "total 12K\n",
    "-rw-r--r-- 1 jovyan users 11K May 28 08:44 part-00000-fb2de64c-bf7c-4111-9e26-108434c87041-c000.csv\n",
    "-rw-r--r-- 1 jovyan users   0 May 28 08:44 _SUCCESS"
   ]
  },
  {
   "cell_type": "markdown",
   "id": "6995624c-875e-4f3f-b90c-f83cd2c3e8bb",
   "metadata": {},
   "source": [
    "Take the first 10 rows and write in a folder called `data/write_3`, with header, using `,` as a separator and writing all None values as `NULL`. Partition by the first letter of the artist's name."
   ]
  },
  {
   "cell_type": "code",
   "execution_count": 11,
   "id": "534524af-1843-4e14-84fb-26d6d97f1d1b",
   "metadata": {},
   "outputs": [],
   "source": [
    "(\n",
    "    df\n",
    "    .limit(10)\n",
    "    .withColumn(\"first_letter\",col(\"name\").substr(0,1))\n",
    "    .write\n",
    "    .mode(\"overwrite\")\n",
    "    .option(\"header\",\"true\")\n",
    "    .option(\"nullValue\",\"NULL\")\n",
    "    .partitionBy(\"first_letter\")\n",
    "    .csv(\"data/write_3\")\n",
    ")"
   ]
  },
  {
   "cell_type": "code",
   "execution_count": 12,
   "id": "db4c6f37-f46e-4a85-ac94-596715ff8ba3",
   "metadata": {},
   "outputs": [
    {
     "name": "stdout",
     "output_type": "stream",
     "text": [
      "-rw-r--r-- 1 jovyan users    0 May 28 11:39  data/write_3/_SUCCESS\n",
      "\n",
      "'data/write_3/first_letter=C':\n",
      "total 4.0K\n",
      "-rw-r--r-- 1 jovyan users 338 May 28 11:39 part-00000-fbf0bacb-5b85-4d4a-8145-7f9444d8dbae.c000.csv\n",
      "\n",
      "'data/write_3/first_letter=D':\n",
      "total 4.0K\n",
      "-rw-r--r-- 1 jovyan users 329 May 28 11:39 part-00000-fbf0bacb-5b85-4d4a-8145-7f9444d8dbae.c000.csv\n",
      "\n",
      "'data/write_3/first_letter=G':\n",
      "total 4.0K\n",
      "-rw-r--r-- 1 jovyan users 360 May 28 11:39 part-00000-fbf0bacb-5b85-4d4a-8145-7f9444d8dbae.c000.csv\n",
      "\n",
      "'data/write_3/first_letter=H':\n",
      "total 4.0K\n",
      "-rw-r--r-- 1 jovyan users 332 May 28 11:39 part-00000-fbf0bacb-5b85-4d4a-8145-7f9444d8dbae.c000.csv\n",
      "\n",
      "'data/write_3/first_letter=J':\n",
      "total 4.0K\n",
      "-rw-r--r-- 1 jovyan users 649 May 28 11:39 part-00000-fbf0bacb-5b85-4d4a-8145-7f9444d8dbae.c000.csv\n",
      "\n",
      "'data/write_3/first_letter=N':\n",
      "total 4.0K\n",
      "-rw-r--r-- 1 jovyan users 333 May 28 11:39 part-00000-fbf0bacb-5b85-4d4a-8145-7f9444d8dbae.c000.csv\n",
      "\n",
      "'data/write_3/first_letter=T':\n",
      "total 4.0K\n",
      "-rw-r--r-- 1 jovyan users 460 May 28 11:39 part-00000-fbf0bacb-5b85-4d4a-8145-7f9444d8dbae.c000.csv\n"
     ]
    }
   ],
   "source": [
    "! ls -lh data/write_3/*"
   ]
  },
  {
   "cell_type": "raw",
   "id": "883af72c-1b17-43b7-8eed-9cf594691486",
   "metadata": {},
   "source": [
    "-rw-r--r-- 1 jovyan users    0 May 28 09:02  data/write_3/_SUCCESS\n",
    "\n",
    "'data/write_3/first_letter=C':\n",
    "total 4.0K\n",
    "-rw-r--r-- 1 jovyan users 338 May 28 09:02 part-00000-1fb188a6-6744-40e9-a7fc-3afda349942c.c000.csv\n",
    "\n",
    "'data/write_3/first_letter=D':\n",
    "total 4.0K\n",
    "-rw-r--r-- 1 jovyan users 329 May 28 09:02 part-00000-1fb188a6-6744-40e9-a7fc-3afda349942c.c000.csv\n",
    "\n",
    "'data/write_3/first_letter=G':\n",
    "total 4.0K\n",
    "-rw-r--r-- 1 jovyan users 360 May 28 09:02 part-00000-1fb188a6-6744-40e9-a7fc-3afda349942c.c000.csv\n",
    "\n",
    "'data/write_3/first_letter=H':\n",
    "total 4.0K\n",
    "-rw-r--r-- 1 jovyan users 332 May 28 09:02 part-00000-1fb188a6-6744-40e9-a7fc-3afda349942c.c000.csv\n",
    "\n",
    "'data/write_3/first_letter=J':\n",
    "total 4.0K\n",
    "-rw-r--r-- 1 jovyan users 649 May 28 09:02 part-00000-1fb188a6-6744-40e9-a7fc-3afda349942c.c000.csv\n",
    "\n",
    "'data/write_3/first_letter=N':\n",
    "total 4.0K\n",
    "-rw-r--r-- 1 jovyan users 333 May 28 09:02 part-00000-1fb188a6-6744-40e9-a7fc-3afda349942c.c000.csv\n",
    "\n",
    "'data/write_3/first_letter=T':\n",
    "total 4.0K\n",
    "-rw-r--r-- 1 jovyan users 460 May 28 09:02 part-00000-1fb188a6-6744-40e9-a7fc-3afda349942c.c000.csv"
   ]
  },
  {
   "cell_type": "markdown",
   "id": "ea79f1c3-f191-403e-886f-43d702a85e8c",
   "metadata": {},
   "source": [
    "## Writing to JSON: exercises\n",
    "\n",
    "Writing to JSON is much the same as writing to csv: set the mode, the options and the partitions, and then use the `.json()` feature. You can read more about it in [the documentation](https://spark.apache.org/docs/latest/api/python/reference/pyspark.sql/api/pyspark.sql.DataFrameWriter.json.html), including [options](https://spark.apache.org/docs/latest/sql-data-sources-json.html#data-source-option).\n",
    "\n",
    "\n",
    "Write the first 50 rows into json in a folder called `data/write_4`"
   ]
  },
  {
   "cell_type": "code",
   "execution_count": 13,
   "id": "fb897f33-85ef-448d-bfe9-285c1228518a",
   "metadata": {},
   "outputs": [],
   "source": [
    "df.limit(50).write.mode(\"overwrite\").json(\"data/write_4\")"
   ]
  },
  {
   "cell_type": "code",
   "execution_count": 14,
   "id": "4d43cc79-3cf4-4fee-8561-ac906c92a293",
   "metadata": {},
   "outputs": [
    {
     "name": "stdout",
     "output_type": "stream",
     "text": [
      "-rw-r--r-- 1 jovyan users 9.3K May 28 11:39 data/write_4/part-00000-0b23d268-4659-42f9-9c51-7b101db939d0-c000.json\n",
      "-rw-r--r-- 1 jovyan users    0 May 28 11:39 data/write_4/_SUCCESS\n"
     ]
    }
   ],
   "source": [
    "! ls -lh data/write_4/*"
   ]
  },
  {
   "cell_type": "raw",
   "id": "dd5ebeab-1b32-4772-9627-50da16044653",
   "metadata": {},
   "source": [
    "-rw-r--r-- 1 jovyan users 9.3K May 28 09:02 data/write_4/part-00000-6e299863-3ffe-44f6-a1f0-9c26b35b5010-c000.json\n",
    "-rw-r--r-- 1 jovyan users    0 May 28 09:02 data/write_4/_SUCCESS"
   ]
  },
  {
   "cell_type": "markdown",
   "id": "1e1b5b9a-2b9a-4289-b4bd-d1e6febfeb14",
   "metadata": {},
   "source": [
    "#### JSON lines\n",
    "\n",
    "[JSON lines](https://jsonlines.org/) is an alternative JSON format that you may encounter at times. Instead of the objects contained in a list style `[{...}, {...}]`, each object comes in a line in the file. Take the columns `name` and `gender`, remove the nulls and take the first 5 lines of this dataframe, and write it in JSON lines format, in a folder called `data/write_5`. "
   ]
  },
  {
   "cell_type": "code",
   "execution_count": 15,
   "id": "f89661df-48b3-42e5-8bf3-2ace5bcface0",
   "metadata": {},
   "outputs": [],
   "source": [
    "df.select([\"name\",\"gender\"]).dropna().limit(5).write.mode(\"overwrite\").option(\"multiline\",\"true\").json(\"data/write_5\")"
   ]
  },
  {
   "cell_type": "code",
   "execution_count": 16,
   "id": "3cfe6dad-e9c8-4086-9d8a-03e36e08c7e0",
   "metadata": {},
   "outputs": [
    {
     "name": "stdout",
     "output_type": "stream",
     "text": [
      "-rw-r--r-- 1 jovyan users 181 May 28 11:39 data/write_5/part-00000-7970f2af-fad5-4c84-9a40-2884d53ad857-c000.json\n",
      "-rw-r--r-- 1 jovyan users   0 May 28 11:39 data/write_5/_SUCCESS\n"
     ]
    }
   ],
   "source": [
    "! ls -lh data/write_5/*"
   ]
  },
  {
   "cell_type": "raw",
   "id": "45fbed12-92a4-4b1e-a198-2d54baeec917",
   "metadata": {},
   "source": [
    "-rw-r--r-- 1 jovyan users 181 May 28 09:02 data/write_5/part-00000-76060f49-f42c-4f2a-9512-23592bb45528-c000.json\n",
    "-rw-r--r-- 1 jovyan users   0 May 28 09:02 data/write_5/_SUCCESS"
   ]
  },
  {
   "cell_type": "code",
   "execution_count": 17,
   "id": "c08775ab-436d-486c-bcaa-ee972780a478",
   "metadata": {},
   "outputs": [
    {
     "name": "stdout",
     "output_type": "stream",
     "text": [
      "{\"name\":\"Roberto Fioretti\",\"gender\":1}\n",
      "{\"name\":\"Drumcell\",\"gender\":1}\n",
      "{\"name\":\"Jelly Roll Morton\",\"gender\":1}\n",
      "{\"name\":\"Henri Wojtkowiak\",\"gender\":1}\n",
      "{\"name\":\"Bill Leeb\",\"gender\":1}\n"
     ]
    }
   ],
   "source": [
    "! cat data/write_5/*"
   ]
  },
  {
   "cell_type": "raw",
   "id": "6bcef4df-0e1f-4917-bdeb-9fb0a4e35c86",
   "metadata": {},
   "source": [
    "{\"name\":\"Roberto Fioretti\",\"gender\":1}\n",
    "{\"name\":\"Drumcell\",\"gender\":1}\n",
    "{\"name\":\"Jelly Roll Morton\",\"gender\":1}\n",
    "{\"name\":\"Henri Wojtkowiak\",\"gender\":1}\n",
    "{\"name\":\"Bill Leeb\",\"gender\":1}"
   ]
  },
  {
   "cell_type": "markdown",
   "id": "f04b10a0-c824-4c24-977f-2bd90f2d8cb7",
   "metadata": {},
   "source": [
    "## Writing to parquet: exercises\n",
    "\n",
    "[Writing to parquet](https://spark.apache.org/docs/latest/api/python/reference/pyspark.sql/api/pyspark.sql.DataFrameWriter.parquet.html) is, again much the same as csv, although in this case we won't have many `option`s.\n",
    "\n",
    "Write the first 10000 to parquet in a folder called `data/write_6` partitioned by gender. This time I'm not giving you any hints, you can do it using the documentation and what you have done so far."
   ]
  },
  {
   "cell_type": "code",
   "execution_count": 18,
   "id": "4cb25efc-4723-47db-b4cb-1b5c40dbdbd3",
   "metadata": {},
   "outputs": [],
   "source": [
    "df.limit(10000).write.mode(\"overwrite\").partitionBy(\"gender\").parquet(\"data/write_6\")"
   ]
  },
  {
   "cell_type": "code",
   "execution_count": 19,
   "id": "fa4d5245-4314-4a22-a86e-609d02857a67",
   "metadata": {},
   "outputs": [
    {
     "name": "stdout",
     "output_type": "stream",
     "text": [
      "-rw-r--r-- 1 jovyan users    0 May 28 11:39  data/write_6/_SUCCESS\n",
      "\n",
      "'data/write_6/gender=1':\n",
      "total 108K\n",
      "-rw-r--r-- 1 jovyan users 108K May 28 11:39 part-00000-55ed6a91-9502-47ab-8542-a5baa9f40d3f.c000.snappy.parquet\n",
      "\n",
      "'data/write_6/gender=2':\n",
      "total 40K\n",
      "-rw-r--r-- 1 jovyan users 40K May 28 11:39 part-00000-55ed6a91-9502-47ab-8542-a5baa9f40d3f.c000.snappy.parquet\n",
      "\n",
      "'data/write_6/gender=__HIVE_DEFAULT_PARTITION__':\n",
      "total 700K\n",
      "-rw-r--r-- 1 jovyan users 697K May 28 11:39 part-00000-55ed6a91-9502-47ab-8542-a5baa9f40d3f.c000.snappy.parquet\n"
     ]
    }
   ],
   "source": [
    "! ls -lh data/write_6/*"
   ]
  },
  {
   "cell_type": "raw",
   "id": "65304124-47c1-467e-8d5e-925296955061",
   "metadata": {},
   "source": [
    "-rw-r--r-- 1 jovyan users    0 May 28 09:02  data/write_6/_SUCCESS\n",
    "\n",
    "'data/write_6/gender=1':\n",
    "total 108K\n",
    "-rw-r--r-- 1 jovyan users 108K May 28 09:02 part-00000-5e6230e0-c129-4c74-a455-480236dbf122.c000.snappy.parquet\n",
    "\n",
    "'data/write_6/gender=2':\n",
    "total 40K\n",
    "-rw-r--r-- 1 jovyan users 40K May 28 09:02 part-00000-5e6230e0-c129-4c74-a455-480236dbf122.c000.snappy.parquet\n",
    "\n",
    "'data/write_6/gender=__HIVE_DEFAULT_PARTITION__':\n",
    "total 700K\n",
    "-rw-r--r-- 1 jovyan users 697K May 28 09:02 part-00000-5e6230e0-c129-4c74-a455-480236dbf122.c000.snappy.parquet"
   ]
  },
  {
   "cell_type": "markdown",
   "id": "0de6be09-f6b3-4000-a3a9-55d98b2c357c",
   "metadata": {},
   "source": [
    "# Reading data: exercises\n",
    "\n",
    "Now, read all the folders that you have  written so far. How can you do it? Take hints from [the documentation](https://spark.apache.org/docs/latest/api/python/reference/pyspark.sql/io.html)."
   ]
  },
  {
   "cell_type": "code",
   "execution_count": 20,
   "id": "7df4ae98-aff9-451a-950d-bdeb9b40b8d3",
   "metadata": {},
   "outputs": [
    {
     "name": "stdout",
     "output_type": "stream",
     "text": [
      "+----+----------+--------------+----------------+---------------+-------+-------------+--------+------------+--------------+-------------+-----+------+--------------------+------+--------------------+--------------------+--------------------+----+\n",
      "|area|begin_area|begin_date_day|begin_date_month|begin_date_year|comment|edits_pending|end_area|end_date_day|end_date_month|end_date_year|ended|gender|                 gid|    id|        last_updated|                name|           sort_name|type|\n",
      "+----+----------+--------------+----------------+---------------+-------+-------------+--------+------------+--------------+-------------+-----+------+--------------------+------+--------------------+--------------------+--------------------+----+\n",
      "|NULL|      NULL|          NULL|            NULL|           NULL|   NULL|            0|    NULL|        NULL|          NULL|         NULL|false|  NULL|9bcb6a6c-6085-438...|565412|                NULL|       João Anicento|       João Anicento|   1|\n",
      "|NULL|      NULL|          NULL|            NULL|           NULL|   NULL|            0|    NULL|        NULL|          NULL|         NULL|false|  NULL|3b807a0d-e5c3-45a...|565413|                NULL|    Cainã Cavalcante|    Cainã Cavalcante|   1|\n",
      "|NULL|      NULL|          NULL|            NULL|           NULL|   NULL|            0|    NULL|        NULL|          NULL|         NULL|false|  NULL|9da965f3-e7fa-438...|565414|                NULL|      Humberto Pinho|      Humberto Pinho|   1|\n",
      "|NULL|      NULL|          NULL|            NULL|           NULL|   NULL|            0|    NULL|        NULL|          NULL|         NULL|false|  NULL|1bb7f5f1-0c19-466...|565415|                NULL|    Tapera das Artes|    Tapera das Artes|   1|\n",
      "|NULL|      NULL|          NULL|            NULL|           NULL|   NULL|            0|    NULL|        NULL|          NULL|         NULL|false|  NULL|1104180a-7644-432...|565416|                NULL|Geraldo Amâncio &...|Geraldo Amâncio &...|   2|\n",
      "|NULL|      NULL|          NULL|            NULL|           NULL|   NULL|            0|    NULL|        NULL|          NULL|         NULL|false|  NULL|e3096dbd-8790-487...|565418|                NULL|Jairo Mozart & Di...|Jairo Mozart & Di...|   2|\n",
      "|NULL|      NULL|          NULL|            NULL|           NULL|   NULL|            0|    NULL|        NULL|          NULL|         NULL|false|  NULL|cc0ddf72-1a89-429...|565419|                NULL|                Törf|                Törf|   2|\n",
      "|NULL|      NULL|          NULL|            NULL|           NULL|   NULL|            0|    NULL|        NULL|          NULL|         NULL|false|  NULL|67f2e6bf-5885-4be...|565420|                NULL|         Derek Magee|        Magee, Derek|   1|\n",
      "|NULL|      NULL|          NULL|            NULL|           NULL|   NULL|            0|    NULL|        NULL|          NULL|         NULL|false|  NULL|beb794d2-75de-40b...|565421|                NULL|       Neil Whitaker|      Whitaker, Neil|   1|\n",
      "|NULL|      NULL|          NULL|            NULL|           NULL|   NULL|            0|    NULL|        NULL|          NULL|         NULL|false|  NULL|dadd4642-7d98-42f...|565422|                NULL|         John Layton|        Layton, John|   1|\n",
      "|NULL|      NULL|          NULL|            NULL|           NULL|   NULL|            0|    NULL|        NULL|          NULL|         NULL|false|  NULL|ca5081ee-1aa1-4ff...|565423|                NULL|         Marcos Lima|         Marcos Lima|   1|\n",
      "|NULL|      NULL|          NULL|            NULL|           NULL|   NULL|            0|    NULL|        NULL|          NULL|         NULL|false|  NULL|f425a74d-021f-41a...|886526|2012-04-22T07:48:...|        Yvan Genkins|        Yvan Genkins|NULL|\n",
      "|NULL|      NULL|          NULL|            NULL|           NULL|   NULL|            0|    NULL|        NULL|          NULL|         NULL|false|  NULL|f97d5a36-917f-4a2...|565425|                NULL|        Jairo Mozart|        Jairo Mozart|   1|\n",
      "|NULL|      NULL|          NULL|            NULL|           NULL|   NULL|            0|    NULL|        NULL|          NULL|         NULL|false|  NULL|42ba20a6-3186-4c1...|561707|                NULL|    Guillaume Pladys|    Guillaume Pladys|   1|\n",
      "|NULL|      NULL|          NULL|            NULL|           NULL|   NULL|            0|    NULL|        NULL|          NULL|         NULL|false|  NULL|04a0a354-00be-465...|565426|                NULL|     Jackson Cassidy|    Cassidy, Jackson|   1|\n",
      "|NULL|      NULL|          NULL|            NULL|           NULL|   NULL|            0|    NULL|        NULL|          NULL|         NULL|false|     1|62ad3a15-2c7e-464...|490782|2011-06-03T11:00:...|    Roberto Fioretti|   Fioretti, Roberto|   1|\n",
      "|NULL|      NULL|          NULL|            NULL|           NULL|   NULL|            0|    NULL|        NULL|          NULL|         NULL|false|  NULL|4c700a30-f498-430...|565628|                NULL|      Paul Cavaciuti|     Cavaciuti, Paul|   1|\n",
      "|NULL|      NULL|          NULL|            NULL|           NULL|   NULL|            0|    NULL|        NULL|          NULL|         NULL|false|  NULL|14e55882-10dc-428...|565638|                NULL|     Sheikh El Atlas|    Atlas, Sheikh El|   1|\n",
      "|NULL|      NULL|          NULL|            NULL|           NULL|   NULL|            0|    NULL|        NULL|          NULL|         NULL|false|  NULL|e72cdf91-5edc-48b...|630875|2009-07-20T05:42:...|               Rayze|               Rayze|   1|\n",
      "|NULL|      NULL|          NULL|            NULL|           NULL|   NULL|            0|    NULL|        NULL|          NULL|         NULL|false|  NULL|2ded205a-b4b0-4b8...|565645|                NULL|        Jamespatrick|        Jamespatrick|   1|\n",
      "+----+----------+--------------+----------------+---------------+-------+-------------+--------+------------+--------------+-------------+-----+------+--------------------+------+--------------------+--------------------+--------------------+----+\n",
      "only showing top 20 rows\n",
      "\n"
     ]
    }
   ],
   "source": [
    "# read the folder data/write_0\n",
    "\n",
    "spark.read.option(\"header\",\"true\").csv(\"data/write_0\").show()"
   ]
  },
  {
   "cell_type": "code",
   "execution_count": 21,
   "id": "10901887-09df-4de5-8e7e-a73f594e6293",
   "metadata": {},
   "outputs": [
    {
     "name": "stdout",
     "output_type": "stream",
     "text": [
      "+----+----------+--------------+----------------+---------------+-------+-------------+--------+------------+--------------+-------------+-----+--------------------+------+--------------------+--------------------+--------------------+----+------+\n",
      "|area|begin_area|begin_date_day|begin_date_month|begin_date_year|comment|edits_pending|end_area|end_date_day|end_date_month|end_date_year|ended|                 gid|    id|        last_updated|                name|           sort_name|type|gender|\n",
      "+----+----------+--------------+----------------+---------------+-------+-------------+--------+------------+--------------+-------------+-----+--------------------+------+--------------------+--------------------+--------------------+----+------+\n",
      "|NULL|      NULL|          NULL|            NULL|           NULL|   NULL|            0|    NULL|        NULL|          NULL|         NULL|false|9bcb6a6c-6085-438...|565412|                NULL|       João Anicento|       João Anicento|   1|  NULL|\n",
      "|NULL|      NULL|          NULL|            NULL|           NULL|   NULL|            0|    NULL|        NULL|          NULL|         NULL|false|3b807a0d-e5c3-45a...|565413|                NULL|    Cainã Cavalcante|    Cainã Cavalcante|   1|  NULL|\n",
      "|NULL|      NULL|          NULL|            NULL|           NULL|   NULL|            0|    NULL|        NULL|          NULL|         NULL|false|9da965f3-e7fa-438...|565414|                NULL|      Humberto Pinho|      Humberto Pinho|   1|  NULL|\n",
      "|NULL|      NULL|          NULL|            NULL|           NULL|   NULL|            0|    NULL|        NULL|          NULL|         NULL|false|1bb7f5f1-0c19-466...|565415|                NULL|    Tapera das Artes|    Tapera das Artes|   1|  NULL|\n",
      "|NULL|      NULL|          NULL|            NULL|           NULL|   NULL|            0|    NULL|        NULL|          NULL|         NULL|false|1104180a-7644-432...|565416|                NULL|Geraldo Amâncio &...|Geraldo Amâncio &...|   2|  NULL|\n",
      "|NULL|      NULL|          NULL|            NULL|           NULL|   NULL|            0|    NULL|        NULL|          NULL|         NULL|false|e3096dbd-8790-487...|565418|                NULL|Jairo Mozart & Di...|Jairo Mozart & Di...|   2|  NULL|\n",
      "|NULL|      NULL|          NULL|            NULL|           NULL|   NULL|            0|    NULL|        NULL|          NULL|         NULL|false|cc0ddf72-1a89-429...|565419|                NULL|                Törf|                Törf|   2|  NULL|\n",
      "|NULL|      NULL|          NULL|            NULL|           NULL|   NULL|            0|    NULL|        NULL|          NULL|         NULL|false|67f2e6bf-5885-4be...|565420|                NULL|         Derek Magee|        Magee, Derek|   1|  NULL|\n",
      "|NULL|      NULL|          NULL|            NULL|           NULL|   NULL|            0|    NULL|        NULL|          NULL|         NULL|false|beb794d2-75de-40b...|565421|                NULL|       Neil Whitaker|      Whitaker, Neil|   1|  NULL|\n",
      "|NULL|      NULL|          NULL|            NULL|           NULL|   NULL|            0|    NULL|        NULL|          NULL|         NULL|false|dadd4642-7d98-42f...|565422|                NULL|         John Layton|        Layton, John|   1|  NULL|\n",
      "|NULL|      NULL|          NULL|            NULL|           NULL|   NULL|            0|    NULL|        NULL|          NULL|         NULL|false|ca5081ee-1aa1-4ff...|565423|                NULL|         Marcos Lima|         Marcos Lima|   1|  NULL|\n",
      "|NULL|      NULL|          NULL|            NULL|           NULL|   NULL|            0|    NULL|        NULL|          NULL|         NULL|false|f425a74d-021f-41a...|886526|2012-04-22T07:48:...|        Yvan Genkins|        Yvan Genkins|NULL|  NULL|\n",
      "|NULL|      NULL|          NULL|            NULL|           NULL|   NULL|            0|    NULL|        NULL|          NULL|         NULL|false|f97d5a36-917f-4a2...|565425|                NULL|        Jairo Mozart|        Jairo Mozart|   1|  NULL|\n",
      "|NULL|      NULL|          NULL|            NULL|           NULL|   NULL|            0|    NULL|        NULL|          NULL|         NULL|false|42ba20a6-3186-4c1...|561707|                NULL|    Guillaume Pladys|    Guillaume Pladys|   1|  NULL|\n",
      "|NULL|      NULL|          NULL|            NULL|           NULL|   NULL|            0|    NULL|        NULL|          NULL|         NULL|false|04a0a354-00be-465...|565426|                NULL|     Jackson Cassidy|    Cassidy, Jackson|   1|  NULL|\n",
      "|NULL|      NULL|          NULL|            NULL|           NULL|   NULL|            0|    NULL|        NULL|          NULL|         NULL|false|4c700a30-f498-430...|565628|                NULL|      Paul Cavaciuti|     Cavaciuti, Paul|   1|  NULL|\n",
      "|NULL|      NULL|          NULL|            NULL|           NULL|   NULL|            0|    NULL|        NULL|          NULL|         NULL|false|14e55882-10dc-428...|565638|                NULL|     Sheikh El Atlas|    Atlas, Sheikh El|   1|  NULL|\n",
      "|NULL|      NULL|          NULL|            NULL|           NULL|   NULL|            0|    NULL|        NULL|          NULL|         NULL|false|e72cdf91-5edc-48b...|630875|2009-07-20T05:42:...|               Rayze|               Rayze|   1|  NULL|\n",
      "|NULL|      NULL|          NULL|            NULL|           NULL|   NULL|            0|    NULL|        NULL|          NULL|         NULL|false|2ded205a-b4b0-4b8...|565645|                NULL|        Jamespatrick|        Jamespatrick|   1|  NULL|\n",
      "|NULL|      NULL|          NULL|            NULL|           NULL|   NULL|            0|    NULL|        NULL|          NULL|         NULL|false|7285fd8f-bbf5-486...|567853|                NULL|arthurs.hoiby.rit...|arthurs.hoiby.rit...|NULL|  NULL|\n",
      "+----+----------+--------------+----------------+---------------+-------+-------------+--------+------------+--------------+-------------+-----+--------------------+------+--------------------+--------------------+--------------------+----+------+\n",
      "only showing top 20 rows\n",
      "\n"
     ]
    }
   ],
   "source": [
    "# read the folder data/write_1\n",
    "\n",
    "spark.read.option(\"header\",\"true\").csv(\"data/write_1\").show()"
   ]
  },
  {
   "cell_type": "code",
   "execution_count": 22,
   "id": "01dd8dab-5ce0-4727-a955-8b54ef8ccab4",
   "metadata": {},
   "outputs": [
    {
     "name": "stdout",
     "output_type": "stream",
     "text": [
      "+----+----+----+----+----+----+---+----+----+----+----+-----+----+--------------------+------+--------------------+--------------------+--------------------+----+\n",
      "| _c0| _c1| _c2| _c3| _c4| _c5|_c6| _c7| _c8| _c9|_c10| _c11|_c12|                _c13|  _c14|                _c15|                _c16|                _c17|_c18|\n",
      "+----+----+----+----+----+----+---+----+----+----+----+-----+----+--------------------+------+--------------------+--------------------+--------------------+----+\n",
      "|NULL|NULL|NULL|NULL|NULL|NULL|  0|NULL|NULL|NULL|NULL|false|NULL|9bcb6a6c-6085-438...|565412|                NULL|       João Anicento|       João Anicento|   1|\n",
      "|NULL|NULL|NULL|NULL|NULL|NULL|  0|NULL|NULL|NULL|NULL|false|NULL|3b807a0d-e5c3-45a...|565413|                NULL|    Cainã Cavalcante|    Cainã Cavalcante|   1|\n",
      "|NULL|NULL|NULL|NULL|NULL|NULL|  0|NULL|NULL|NULL|NULL|false|NULL|9da965f3-e7fa-438...|565414|                NULL|      Humberto Pinho|      Humberto Pinho|   1|\n",
      "|NULL|NULL|NULL|NULL|NULL|NULL|  0|NULL|NULL|NULL|NULL|false|NULL|1bb7f5f1-0c19-466...|565415|                NULL|    Tapera das Artes|    Tapera das Artes|   1|\n",
      "|NULL|NULL|NULL|NULL|NULL|NULL|  0|NULL|NULL|NULL|NULL|false|NULL|1104180a-7644-432...|565416|                NULL|Geraldo Amâncio &...|Geraldo Amâncio &...|   2|\n",
      "|NULL|NULL|NULL|NULL|NULL|NULL|  0|NULL|NULL|NULL|NULL|false|NULL|e3096dbd-8790-487...|565418|                NULL|Jairo Mozart & Di...|Jairo Mozart & Di...|   2|\n",
      "|NULL|NULL|NULL|NULL|NULL|NULL|  0|NULL|NULL|NULL|NULL|false|NULL|cc0ddf72-1a89-429...|565419|                NULL|                Törf|                Törf|   2|\n",
      "|NULL|NULL|NULL|NULL|NULL|NULL|  0|NULL|NULL|NULL|NULL|false|NULL|67f2e6bf-5885-4be...|565420|                NULL|         Derek Magee|        Magee, Derek|   1|\n",
      "|NULL|NULL|NULL|NULL|NULL|NULL|  0|NULL|NULL|NULL|NULL|false|NULL|beb794d2-75de-40b...|565421|                NULL|       Neil Whitaker|      Whitaker, Neil|   1|\n",
      "|NULL|NULL|NULL|NULL|NULL|NULL|  0|NULL|NULL|NULL|NULL|false|NULL|dadd4642-7d98-42f...|565422|                NULL|         John Layton|        Layton, John|   1|\n",
      "|NULL|NULL|NULL|NULL|NULL|NULL|  0|NULL|NULL|NULL|NULL|false|NULL|ca5081ee-1aa1-4ff...|565423|                NULL|         Marcos Lima|         Marcos Lima|   1|\n",
      "|NULL|NULL|NULL|NULL|NULL|NULL|  0|NULL|NULL|NULL|NULL|false|NULL|f425a74d-021f-41a...|886526|2012-04-22T07:48:...|        Yvan Genkins|        Yvan Genkins|NULL|\n",
      "|NULL|NULL|NULL|NULL|NULL|NULL|  0|NULL|NULL|NULL|NULL|false|NULL|f97d5a36-917f-4a2...|565425|                NULL|        Jairo Mozart|        Jairo Mozart|   1|\n",
      "|NULL|NULL|NULL|NULL|NULL|NULL|  0|NULL|NULL|NULL|NULL|false|NULL|42ba20a6-3186-4c1...|561707|                NULL|    Guillaume Pladys|    Guillaume Pladys|   1|\n",
      "|NULL|NULL|NULL|NULL|NULL|NULL|  0|NULL|NULL|NULL|NULL|false|NULL|04a0a354-00be-465...|565426|                NULL|     Jackson Cassidy|    Cassidy, Jackson|   1|\n",
      "|NULL|NULL|NULL|NULL|NULL|NULL|  0|NULL|NULL|NULL|NULL|false|   1|62ad3a15-2c7e-464...|490782|2011-06-03T11:00:...|    Roberto Fioretti|   Fioretti, Roberto|   1|\n",
      "|NULL|NULL|NULL|NULL|NULL|NULL|  0|NULL|NULL|NULL|NULL|false|NULL|4c700a30-f498-430...|565628|                NULL|      Paul Cavaciuti|     Cavaciuti, Paul|   1|\n",
      "|NULL|NULL|NULL|NULL|NULL|NULL|  0|NULL|NULL|NULL|NULL|false|NULL|14e55882-10dc-428...|565638|                NULL|     Sheikh El Atlas|    Atlas, Sheikh El|   1|\n",
      "|NULL|NULL|NULL|NULL|NULL|NULL|  0|NULL|NULL|NULL|NULL|false|NULL|e72cdf91-5edc-48b...|630875|2009-07-20T05:42:...|               Rayze|               Rayze|   1|\n",
      "|NULL|NULL|NULL|NULL|NULL|NULL|  0|NULL|NULL|NULL|NULL|false|NULL|2ded205a-b4b0-4b8...|565645|                NULL|        Jamespatrick|        Jamespatrick|   1|\n",
      "+----+----+----+----+----+----+---+----+----+----+----+-----+----+--------------------+------+--------------------+--------------------+--------------------+----+\n",
      "only showing top 20 rows\n",
      "\n"
     ]
    }
   ],
   "source": [
    "# read the folder data/write_2\n",
    "\n",
    "spark.read.option(\"header\",\"false\").option(\"sep\",\";\").csv(\"data/write_2\").show()"
   ]
  },
  {
   "cell_type": "code",
   "execution_count": 23,
   "id": "03f73f55-6a8e-4e8b-9879-0faf0fe1ae56",
   "metadata": {},
   "outputs": [
    {
     "name": "stdout",
     "output_type": "stream",
     "text": [
      "+----+----------+--------------+----------------+---------------+-------+-------------+--------+------------+--------------+-------------+-----+------+--------------------+------+------------+--------------------+--------------------+----+------------+\n",
      "|area|begin_area|begin_date_day|begin_date_month|begin_date_year|comment|edits_pending|end_area|end_date_day|end_date_month|end_date_year|ended|gender|                 gid|    id|last_updated|                name|           sort_name|type|first_letter|\n",
      "+----+----------+--------------+----------------+---------------+-------+-------------+--------+------------+--------------+-------------+-----+------+--------------------+------+------------+--------------------+--------------------+----+------------+\n",
      "|NULL|      NULL|          NULL|            NULL|           NULL|       |            0|    NULL|        NULL|          NULL|         NULL|false|  NULL|9bcb6a6c-6085-438...|565412|        NULL|       João Anicento|       João Anicento|   1|           J|\n",
      "|NULL|      NULL|          NULL|            NULL|           NULL|       |            0|    NULL|        NULL|          NULL|         NULL|false|  NULL|e3096dbd-8790-487...|565418|        NULL|Jairo Mozart & Di...|Jairo Mozart & Di...|   2|           J|\n",
      "|NULL|      NULL|          NULL|            NULL|           NULL|       |            0|    NULL|        NULL|          NULL|         NULL|false|  NULL|dadd4642-7d98-42f...|565422|        NULL|         John Layton|        Layton, John|   1|           J|\n",
      "|NULL|      NULL|          NULL|            NULL|           NULL|       |            0|    NULL|        NULL|          NULL|         NULL|false|  NULL|1bb7f5f1-0c19-466...|565415|        NULL|    Tapera das Artes|    Tapera das Artes|   1|           T|\n",
      "|NULL|      NULL|          NULL|            NULL|           NULL|       |            0|    NULL|        NULL|          NULL|         NULL|false|  NULL|cc0ddf72-1a89-429...|565419|        NULL|                Törf|                Törf|   2|           T|\n",
      "|NULL|      NULL|          NULL|            NULL|           NULL|       |            0|    NULL|        NULL|          NULL|         NULL|false|  NULL|1104180a-7644-432...|565416|        NULL|Geraldo Amâncio &...|Geraldo Amâncio &...|   2|           G|\n",
      "|NULL|      NULL|          NULL|            NULL|           NULL|       |            0|    NULL|        NULL|          NULL|         NULL|false|  NULL|3b807a0d-e5c3-45a...|565413|        NULL|    Cainã Cavalcante|    Cainã Cavalcante|   1|           C|\n",
      "|NULL|      NULL|          NULL|            NULL|           NULL|       |            0|    NULL|        NULL|          NULL|         NULL|false|  NULL|beb794d2-75de-40b...|565421|        NULL|       Neil Whitaker|      Whitaker, Neil|   1|           N|\n",
      "|NULL|      NULL|          NULL|            NULL|           NULL|       |            0|    NULL|        NULL|          NULL|         NULL|false|  NULL|9da965f3-e7fa-438...|565414|        NULL|      Humberto Pinho|      Humberto Pinho|   1|           H|\n",
      "|NULL|      NULL|          NULL|            NULL|           NULL|       |            0|    NULL|        NULL|          NULL|         NULL|false|  NULL|67f2e6bf-5885-4be...|565420|        NULL|         Derek Magee|        Magee, Derek|   1|           D|\n",
      "+----+----------+--------------+----------------+---------------+-------+-------------+--------+------------+--------------+-------------+-----+------+--------------------+------+------------+--------------------+--------------------+----+------------+\n",
      "\n"
     ]
    }
   ],
   "source": [
    "# read the folder data/write_3\n",
    "\n",
    "spark.read.option(\"header\",\"true\").option(\"nullValue\",\"NULL\").csv(\"data/write_3\").show()"
   ]
  },
  {
   "cell_type": "code",
   "execution_count": 24,
   "id": "71da314f-f293-41f7-9a3d-7932b61ea564",
   "metadata": {},
   "outputs": [
    {
     "name": "stdout",
     "output_type": "stream",
     "text": [
      "+----+----------+--------------+----------------+---------------+-------+-------------+--------+------------+--------------+-------------+-----+------+--------------------+------+--------------------+--------------------+--------------------+----+\n",
      "|area|begin_area|begin_date_day|begin_date_month|begin_date_year|comment|edits_pending|end_area|end_date_day|end_date_month|end_date_year|ended|gender|                 gid|    id|        last_updated|                name|           sort_name|type|\n",
      "+----+----------+--------------+----------------+---------------+-------+-------------+--------+------------+--------------+-------------+-----+------+--------------------+------+--------------------+--------------------+--------------------+----+\n",
      "|NULL|      NULL|          NULL|            NULL|           NULL|       |            0|    NULL|        NULL|          NULL|         NULL|false|  NULL|9bcb6a6c-6085-438...|565412|                NULL|       João Anicento|       João Anicento|   1|\n",
      "|NULL|      NULL|          NULL|            NULL|           NULL|       |            0|    NULL|        NULL|          NULL|         NULL|false|  NULL|3b807a0d-e5c3-45a...|565413|                NULL|    Cainã Cavalcante|    Cainã Cavalcante|   1|\n",
      "|NULL|      NULL|          NULL|            NULL|           NULL|       |            0|    NULL|        NULL|          NULL|         NULL|false|  NULL|9da965f3-e7fa-438...|565414|                NULL|      Humberto Pinho|      Humberto Pinho|   1|\n",
      "|NULL|      NULL|          NULL|            NULL|           NULL|       |            0|    NULL|        NULL|          NULL|         NULL|false|  NULL|1bb7f5f1-0c19-466...|565415|                NULL|    Tapera das Artes|    Tapera das Artes|   1|\n",
      "|NULL|      NULL|          NULL|            NULL|           NULL|       |            0|    NULL|        NULL|          NULL|         NULL|false|  NULL|1104180a-7644-432...|565416|                NULL|Geraldo Amâncio &...|Geraldo Amâncio &...|   2|\n",
      "|NULL|      NULL|          NULL|            NULL|           NULL|       |            0|    NULL|        NULL|          NULL|         NULL|false|  NULL|e3096dbd-8790-487...|565418|                NULL|Jairo Mozart & Di...|Jairo Mozart & Di...|   2|\n",
      "|NULL|      NULL|          NULL|            NULL|           NULL|       |            0|    NULL|        NULL|          NULL|         NULL|false|  NULL|cc0ddf72-1a89-429...|565419|                NULL|                Törf|                Törf|   2|\n",
      "|NULL|      NULL|          NULL|            NULL|           NULL|       |            0|    NULL|        NULL|          NULL|         NULL|false|  NULL|67f2e6bf-5885-4be...|565420|                NULL|         Derek Magee|        Magee, Derek|   1|\n",
      "|NULL|      NULL|          NULL|            NULL|           NULL|       |            0|    NULL|        NULL|          NULL|         NULL|false|  NULL|beb794d2-75de-40b...|565421|                NULL|       Neil Whitaker|      Whitaker, Neil|   1|\n",
      "|NULL|      NULL|          NULL|            NULL|           NULL|       |            0|    NULL|        NULL|          NULL|         NULL|false|  NULL|dadd4642-7d98-42f...|565422|                NULL|         John Layton|        Layton, John|   1|\n",
      "|NULL|      NULL|          NULL|            NULL|           NULL|       |            0|    NULL|        NULL|          NULL|         NULL|false|  NULL|ca5081ee-1aa1-4ff...|565423|                NULL|         Marcos Lima|         Marcos Lima|   1|\n",
      "|NULL|      NULL|          NULL|            NULL|           NULL|       |            0|    NULL|        NULL|          NULL|         NULL|false|  NULL|f425a74d-021f-41a...|886526|2012-04-22T07:48:...|        Yvan Genkins|        Yvan Genkins|NULL|\n",
      "|NULL|      NULL|          NULL|            NULL|           NULL|       |            0|    NULL|        NULL|          NULL|         NULL|false|  NULL|f97d5a36-917f-4a2...|565425|                NULL|        Jairo Mozart|        Jairo Mozart|   1|\n",
      "|NULL|      NULL|          NULL|            NULL|           NULL|       |            0|    NULL|        NULL|          NULL|         NULL|false|  NULL|42ba20a6-3186-4c1...|561707|                NULL|    Guillaume Pladys|    Guillaume Pladys|   1|\n",
      "|NULL|      NULL|          NULL|            NULL|           NULL|       |            0|    NULL|        NULL|          NULL|         NULL|false|  NULL|04a0a354-00be-465...|565426|                NULL|     Jackson Cassidy|    Cassidy, Jackson|   1|\n",
      "|NULL|      NULL|          NULL|            NULL|           NULL|       |            0|    NULL|        NULL|          NULL|         NULL|false|     1|62ad3a15-2c7e-464...|490782|2011-06-03T11:00:...|    Roberto Fioretti|   Fioretti, Roberto|   1|\n",
      "|NULL|      NULL|          NULL|            NULL|           NULL|       |            0|    NULL|        NULL|          NULL|         NULL|false|  NULL|4c700a30-f498-430...|565628|                NULL|      Paul Cavaciuti|     Cavaciuti, Paul|   1|\n",
      "|NULL|      NULL|          NULL|            NULL|           NULL|       |            0|    NULL|        NULL|          NULL|         NULL|false|  NULL|14e55882-10dc-428...|565638|                NULL|     Sheikh El Atlas|    Atlas, Sheikh El|   1|\n",
      "|NULL|      NULL|          NULL|            NULL|           NULL|       |            0|    NULL|        NULL|          NULL|         NULL|false|  NULL|e72cdf91-5edc-48b...|630875|2009-07-20T05:42:...|               Rayze|               Rayze|   1|\n",
      "|NULL|      NULL|          NULL|            NULL|           NULL|       |            0|    NULL|        NULL|          NULL|         NULL|false|  NULL|2ded205a-b4b0-4b8...|565645|                NULL|        Jamespatrick|        Jamespatrick|   1|\n",
      "+----+----------+--------------+----------------+---------------+-------+-------------+--------+------------+--------------+-------------+-----+------+--------------------+------+--------------------+--------------------+--------------------+----+\n",
      "only showing top 20 rows\n",
      "\n"
     ]
    }
   ],
   "source": [
    "# read the folder data/write_4\n",
    "\n",
    "spark.read.json(\"data/write_4\").show()"
   ]
  },
  {
   "cell_type": "code",
   "execution_count": 25,
   "id": "13eaa927-717c-4947-9e4f-13091ff215dd",
   "metadata": {},
   "outputs": [
    {
     "name": "stdout",
     "output_type": "stream",
     "text": [
      "+------+----------------+\n",
      "|gender|            name|\n",
      "+------+----------------+\n",
      "|     1|Roberto Fioretti|\n",
      "+------+----------------+\n",
      "\n"
     ]
    }
   ],
   "source": [
    "# read the folder data/write_5\n",
    "\n",
    "spark.read.option(\"multiline\",\"true\").json(\"data/write_5\").show()"
   ]
  },
  {
   "cell_type": "code",
   "execution_count": 26,
   "id": "49505fa1-2445-4f9f-b1bb-29d003c0d8f5",
   "metadata": {},
   "outputs": [
    {
     "name": "stdout",
     "output_type": "stream",
     "text": [
      "+----+----------+--------------+----------------+---------------+-------+-------------+--------+------------+--------------+-------------+-----+--------------------+------+--------------------+--------------------+--------------------+----+------+\n",
      "|area|begin_area|begin_date_day|begin_date_month|begin_date_year|comment|edits_pending|end_area|end_date_day|end_date_month|end_date_year|ended|                 gid|    id|        last_updated|                name|           sort_name|type|gender|\n",
      "+----+----------+--------------+----------------+---------------+-------+-------------+--------+------------+--------------+-------------+-----+--------------------+------+--------------------+--------------------+--------------------+----+------+\n",
      "|NULL|      NULL|          NULL|            NULL|           NULL|       |            0|    NULL|        NULL|          NULL|         NULL|false|9bcb6a6c-6085-438...|565412|                NULL|       João Anicento|       João Anicento|   1|  NULL|\n",
      "|NULL|      NULL|          NULL|            NULL|           NULL|       |            0|    NULL|        NULL|          NULL|         NULL|false|3b807a0d-e5c3-45a...|565413|                NULL|    Cainã Cavalcante|    Cainã Cavalcante|   1|  NULL|\n",
      "|NULL|      NULL|          NULL|            NULL|           NULL|       |            0|    NULL|        NULL|          NULL|         NULL|false|9da965f3-e7fa-438...|565414|                NULL|      Humberto Pinho|      Humberto Pinho|   1|  NULL|\n",
      "|NULL|      NULL|          NULL|            NULL|           NULL|       |            0|    NULL|        NULL|          NULL|         NULL|false|1bb7f5f1-0c19-466...|565415|                NULL|    Tapera das Artes|    Tapera das Artes|   1|  NULL|\n",
      "|NULL|      NULL|          NULL|            NULL|           NULL|       |            0|    NULL|        NULL|          NULL|         NULL|false|1104180a-7644-432...|565416|                NULL|Geraldo Amâncio &...|Geraldo Amâncio &...|   2|  NULL|\n",
      "|NULL|      NULL|          NULL|            NULL|           NULL|       |            0|    NULL|        NULL|          NULL|         NULL|false|e3096dbd-8790-487...|565418|                NULL|Jairo Mozart & Di...|Jairo Mozart & Di...|   2|  NULL|\n",
      "|NULL|      NULL|          NULL|            NULL|           NULL|       |            0|    NULL|        NULL|          NULL|         NULL|false|cc0ddf72-1a89-429...|565419|                NULL|                Törf|                Törf|   2|  NULL|\n",
      "|NULL|      NULL|          NULL|            NULL|           NULL|       |            0|    NULL|        NULL|          NULL|         NULL|false|67f2e6bf-5885-4be...|565420|                NULL|         Derek Magee|        Magee, Derek|   1|  NULL|\n",
      "|NULL|      NULL|          NULL|            NULL|           NULL|       |            0|    NULL|        NULL|          NULL|         NULL|false|beb794d2-75de-40b...|565421|                NULL|       Neil Whitaker|      Whitaker, Neil|   1|  NULL|\n",
      "|NULL|      NULL|          NULL|            NULL|           NULL|       |            0|    NULL|        NULL|          NULL|         NULL|false|dadd4642-7d98-42f...|565422|                NULL|         John Layton|        Layton, John|   1|  NULL|\n",
      "|NULL|      NULL|          NULL|            NULL|           NULL|       |            0|    NULL|        NULL|          NULL|         NULL|false|ca5081ee-1aa1-4ff...|565423|                NULL|         Marcos Lima|         Marcos Lima|   1|  NULL|\n",
      "|NULL|      NULL|          NULL|            NULL|           NULL|       |            0|    NULL|        NULL|          NULL|         NULL|false|f425a74d-021f-41a...|886526|2012-04-22T07:48:...|        Yvan Genkins|        Yvan Genkins|NULL|  NULL|\n",
      "|NULL|      NULL|          NULL|            NULL|           NULL|       |            0|    NULL|        NULL|          NULL|         NULL|false|f97d5a36-917f-4a2...|565425|                NULL|        Jairo Mozart|        Jairo Mozart|   1|  NULL|\n",
      "|NULL|      NULL|          NULL|            NULL|           NULL|       |            0|    NULL|        NULL|          NULL|         NULL|false|42ba20a6-3186-4c1...|561707|                NULL|    Guillaume Pladys|    Guillaume Pladys|   1|  NULL|\n",
      "|NULL|      NULL|          NULL|            NULL|           NULL|       |            0|    NULL|        NULL|          NULL|         NULL|false|04a0a354-00be-465...|565426|                NULL|     Jackson Cassidy|    Cassidy, Jackson|   1|  NULL|\n",
      "|NULL|      NULL|          NULL|            NULL|           NULL|       |            0|    NULL|        NULL|          NULL|         NULL|false|4c700a30-f498-430...|565628|                NULL|      Paul Cavaciuti|     Cavaciuti, Paul|   1|  NULL|\n",
      "|NULL|      NULL|          NULL|            NULL|           NULL|       |            0|    NULL|        NULL|          NULL|         NULL|false|14e55882-10dc-428...|565638|                NULL|     Sheikh El Atlas|    Atlas, Sheikh El|   1|  NULL|\n",
      "|NULL|      NULL|          NULL|            NULL|           NULL|       |            0|    NULL|        NULL|          NULL|         NULL|false|e72cdf91-5edc-48b...|630875|2009-07-20T05:42:...|               Rayze|               Rayze|   1|  NULL|\n",
      "|NULL|      NULL|          NULL|            NULL|           NULL|       |            0|    NULL|        NULL|          NULL|         NULL|false|2ded205a-b4b0-4b8...|565645|                NULL|        Jamespatrick|        Jamespatrick|   1|  NULL|\n",
      "|NULL|      NULL|          NULL|            NULL|           NULL|       |            0|    NULL|        NULL|          NULL|         NULL|false|7285fd8f-bbf5-486...|567853|                NULL|arthurs.hoiby.rit...|arthurs.hoiby.rit...|NULL|  NULL|\n",
      "+----+----------+--------------+----------------+---------------+-------+-------------+--------+------------+--------------+-------------+-----+--------------------+------+--------------------+--------------------+--------------------+----+------+\n",
      "only showing top 20 rows\n",
      "\n"
     ]
    }
   ],
   "source": [
    "# read the folder data/write_6\n",
    "\n",
    "spark.read.parquet(\"data/write_6\").show()"
   ]
  },
  {
   "cell_type": "code",
   "execution_count": null,
   "id": "e314ac8f-f60e-463a-b451-e32616970fe9",
   "metadata": {},
   "outputs": [],
   "source": []
  }
 ],
 "metadata": {
  "kernelspec": {
   "display_name": "Python 3 (ipykernel)",
   "language": "python",
   "name": "python3"
  },
  "language_info": {
   "codemirror_mode": {
    "name": "ipython",
    "version": 3
   },
   "file_extension": ".py",
   "mimetype": "text/x-python",
   "name": "python",
   "nbconvert_exporter": "python",
   "pygments_lexer": "ipython3",
   "version": "3.11.6"
  }
 },
 "nbformat": 4,
 "nbformat_minor": 5
}
